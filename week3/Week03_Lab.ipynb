{
  "cells": [
    {
      "cell_type": "markdown",
      "metadata": {
        "id": "KtSbaaryqOBC"
      },
      "source": [
        "# The Task\n",
        "\n",
        "* This is a continuation from week 2 lab. For convenience, week 2 lab along with the answers are also included. \n",
        "* Our **Task** is to fit a polynomial curve to data. This is called **curve fitting** and has numerous applications in Data Science, Statistics and Machine Learning. We will solve curve fitting in two ways: the standard one and one which is much easier using Automatic Differentiation. \n",
        "* The Learning Outcome: Hands-on application of Automatic Differentiation.\n"
      ]
    },
    {
      "cell_type": "markdown",
      "metadata": {
        "id": "JbRNXw3xqOBH"
      },
      "source": [
        "## Creating the data\n",
        "\n",
        "* Let us first create some data using a known function. We will use the **sinusoidal** function $y=f(x)=sin(x)$. \n",
        "    * x is the input to the function and y is the output of the function.\n",
        "* The following code generates and plots our data. "
      ]
    },
    {
      "cell_type": "code",
      "execution_count": 23,
      "metadata": {
        "id": "jm7lyfHoqOBI"
      },
      "outputs": [],
      "source": [
        "import torch\n",
        "import math\n",
        "#from torch.autograd import grad\n",
        "import matplotlib.pyplot as plt\n",
        "%matplotlib inline"
      ]
    },
    {
      "cell_type": "code",
      "execution_count": 5,
      "metadata": {
        "colab": {
          "base_uri": "https://localhost:8080/",
          "height": 279
        },
        "id": "KlWDTEv0qOBJ",
        "outputId": "8dcf05c0-62e8-4273-e959-4e8ef802cb14",
        "scrolled": false
      },
      "outputs": [
        {
          "data": {
            "image/png": "[encoded data removed]",
            "text/plain": [
              "<Figure size 432x288 with 1 Axes>"
            ]
          },
          "metadata": {
            "needs_background": "light"
          },
          "output_type": "display_data"
        }
      ],
      "source": [
        "# Create input data x and output (target) data y\n",
        "N = 2000 # number of samples\n",
        "x = torch.linspace(-math.pi, math.pi, N, dtype=torch.float32)\n",
        "y = torch.sin(x);\n",
        "plt.plot(x, y);\n",
        "plt.grid();\n",
        "plt.xlabel('x');\n",
        "plt.ylabel('y = f(x)');"
      ]
    },
    {
      "cell_type": "markdown",
      "metadata": {
        "id": "w9Lf__h5qOBK"
      },
      "source": [
        "## The Task\n",
        "\n",
        "* Let's assume that we do not know the function that generated the target $y$ from input $x$. That is we do not know that $y$ and $x$ are related through the function $y=sin(x)$.\n",
        "* We are just given the value pais $(x_i, y_i), i=1,\\dots,N$.\n",
        "* Our goal is find a polynomial curve that can fit the pais $(x_i, y_i)$ as accurately as possible.\n",
        "* A polynomial (of degree 3) is given by the following formula:\n",
        "$$P_3(x)= w_0 + w_1x + w_2x^2 + w_3x^3$$\n",
        "where $w_0, w_1, w_2, w_3$ are the weights (our model parameters).\n",
        "* By changing the weights different polynomial curves can be obtained!"
      ]
    },
    {
      "cell_type": "code",
      "execution_count": 24,
      "metadata": {
        "id": "opgszDnBqOBL",
        "scrolled": true
      },
      "outputs": [
        {
          "data": {
            "image/png": "[encoded data removed]",
            "text/plain": [
              "<Figure size 432x288 with 1 Axes>"
            ]
          },
          "metadata": {
            "needs_background": "light"
          },
          "output_type": "display_data"
        }
      ],
      "source": [
        "# Run this cell multiple times to see how different polynomial curves look like \n",
        "\n",
        "# Randomly initialize weights\n",
        "w0 = torch.randn((), dtype=torch.float32)\n",
        "w1 = torch.randn((), dtype=torch.float32)\n",
        "w2 = torch.randn((), dtype=torch.float32)\n",
        "w3 = torch.randn((), dtype=torch.float32)\n",
        "y_hat = w0 + w1 * x + w2 * x ** 2 + w3 * x ** 3\n",
        "\n",
        "# Plot the polynomial curve \n",
        "plt.plot(x, y_hat);\n",
        "plt.grid();\n",
        "plt.xlabel('x');\n",
        "plt.ylabel('y = f(x)');"
      ]
    },
    {
      "cell_type": "markdown",
      "metadata": {
        "id": "kCvwn5KjqOBL"
      },
      "source": [
        "## The Algorithm  \n",
        "* We want to find the weights so that the polynomial curve becomes \"as close as possible\" to the sinusodial function. \n",
        "* \"As close as possible\" is defined with the $L_2$ loss: $$\\sum_{i=1}^N (\\tilde{y}_i - y_i)^2$$ where $\\tilde{y}_i =w_0 + w_1x_i + w_2x_i^2 + w_3x_i^3$\n",
        "\n",
        "* To find the weights, you have to execute the following algorithm for 2000 iterations:\n",
        "    1. Step 1: Calculate prediction $\\tilde{y}_i, i=1,\\dots,N$ with current weights (forward pass) \n",
        "    1. Step 2: Calculate the derivative of the loss with respect to \n",
        "    $\\tilde{y_i}$:  \n",
        "    $$\\textrm {grad_} \\tilde{y}_i= 2(\\tilde{y}_i-y_i), i=1,\\dots,N$$. \n",
        "    1. Step 3: Calculate the derivative of the loss with respect to the weights. The derivatives are given by the following formulas:\n",
        "  $$\\frac{\\theta L}{\\theta w_0} = \\textrm {grad_} w_0= \\sum_{i=1}^N \\textrm {grad_} \\tilde{y}_i,$$\n",
        "  $$\\frac{\\theta L}{\\theta w_1} = \\textrm {grad_} w_1= \\sum_{i=1}^N \\textrm {grad_} \\tilde{y}_ix_i,$$\n",
        "  $$\\frac{\\theta L}{\\theta w_2} = \\textrm {grad_} w_2= \\sum_{i=1}^N \\textrm {grad_} \\tilde{y}_ix_i^2,$$\n",
        "  $$\\frac{\\theta L}{\\theta w_3} = \\textrm {grad_} w_3= \\sum_{i=1}^N \\textrm {grad_} \\tilde{y}_ix_i^3.$$    \n",
        "    1. Step 4: Update the weights from:\n",
        "    $$ w_0 \\leftarrow w_0 - lr \\cdot \\textrm {grad_} w_0,$$\n",
        "    $$ w_1 \\leftarrow w_1 - lr \\cdot \\textrm {grad_} w_1,$$\n",
        "    $$ w_2 \\leftarrow w_2 - lr \\cdot \\textrm {grad_} w_2,$$\n",
        "    $$ w_3 \\leftarrow w_3 - lr \\cdot \\textrm {grad_} w_3,$$\n",
        "    where lr is a constant which is called learning_rate. We set it to $1e-6$."
      ]
    },
    {
      "cell_type": "code",
      "execution_count": 37,
      "metadata": {
        "id": "L007cqxvqOBM"
      },
      "outputs": [
        {
          "name": "stdout",
          "output_type": "stream",
          "text": [
            "99 67056.4453125\n",
            "199 67056.4453125\n",
            "299 67056.4453125\n",
            "399 67056.4453125\n",
            "499 67056.4453125\n",
            "599 67056.4453125\n",
            "699 67056.4453125\n",
            "799 67056.4453125\n",
            "899 67056.4453125\n",
            "999 67056.4453125\n",
            "1099 67056.4453125\n",
            "1199 67056.4453125\n",
            "1299 67056.4453125\n",
            "1399 67056.4453125\n",
            "1499 67056.4453125\n",
            "1599 67056.4453125\n",
            "1699 67056.4453125\n",
            "1799 67056.4453125\n",
            "1899 67056.4453125\n",
            "1999 67056.4453125\n",
            "Result: y = 0.034768201410770416 + 0.42356815934181213 x + 0.7796857357025146 x^2 + 0.13164131343364716 x^3\n"
          ]
        }
      ],
      "source": [
        "# Randomly initialize weights\n",
        "w0 = torch.randn((), dtype=torch.float32, requires_grad =True)\n",
        "w1 = torch.randn((), dtype=torch.float32, requires_grad =True)\n",
        "w2 = torch.randn((), dtype=torch.float32, requires_grad =True)\n",
        "w3 = torch.randn((), dtype=torch.float32, requires_grad =True)\n",
        "\n",
        "# Fill in the gaps denoned with ?? by writing your code\n",
        "lr = 1e-6 # learning rate\n",
        "for t in range(2000):\n",
        "    # Step 1. Calculate prediction y with current weights (forward pass).\n",
        "    y_hat = w0 + w1 * x + w2 * x ** 2 + w3 * x ** 3\n",
        "\n",
        "    # Compute and print loss\n",
        "    loss = (y_hat - y).pow(2).sum()\n",
        "    if t % 100 == 99:\n",
        "        print(t, loss.item())\n",
        "        \n",
        "    # # Step 2. Calculate the derivative of the loss with respect to y_hat.\n",
        "    # # Write your code here:\n",
        "    # #grad_y_hat = ??\n",
        "    grad_y_hat = 2.0 * (y_hat - y)\n",
        "\n",
        "\n",
        "   \n",
        "    # # Step 3. Calculate the derivative of the loss with respect to the weights.\n",
        "    # # Write your code here:\n",
        "    grad_w0 = grad_y_hat.sum()\n",
        "    grad_w1 = (grad_y_hat * x).sum()\n",
        "    grad_w2 = (grad_y_hat * x ** 2).sum()\n",
        "    grad_w3 = (grad_y_hat * x ** 3).sum()\n",
        "    \n",
        "    # # Step 4. Update the weights (using gradient descent).\n",
        "    # # Write your code here:\n",
        "\n",
        "with torch.no_grad():  \n",
        "    w0 -= lr * grad_w0\n",
        "    w1 -= lr * grad_w1\n",
        "    w2 -= lr * grad_w2\n",
        "    w3 -= lr * grad_w3\n",
        "\n",
        "\n",
        "print(f'Result: y = {w0.item()} + {w1.item()} x + {w2.item()} x^2 + {w3.item()} x^3')"
      ]
    },
    {
      "cell_type": "code",
      "execution_count": 39,
      "metadata": {
        "id": "-0gBCVNcqOBN"
      },
      "outputs": [
        {
          "ename": "RuntimeError",
          "evalue": "Can't call numpy() on Tensor that requires grad. Use tensor.detach().numpy() instead.",
          "output_type": "error",
          "traceback": [
            "\u001b[1;31m---------------------------------------------------------------------------\u001b[0m",
            "\u001b[1;31mRuntimeError\u001b[0m                              Traceback (most recent call last)",
            "Input \u001b[1;32mIn [39]\u001b[0m, in \u001b[0;36m<cell line: 4>\u001b[1;34m()\u001b[0m\n\u001b[0;32m      1\u001b[0m \u001b[38;5;66;03m# Show predictions with final weights\u001b[39;00m\n\u001b[0;32m      2\u001b[0m \u001b[38;5;66;03m# This will not work unless you make the code in the previous cell work first!)\u001b[39;00m\n\u001b[0;32m      3\u001b[0m y_hat \u001b[38;5;241m=\u001b[39m w0 \u001b[38;5;241m+\u001b[39m w1 \u001b[38;5;241m*\u001b[39m x \u001b[38;5;241m+\u001b[39m w2 \u001b[38;5;241m*\u001b[39m x \u001b[38;5;241m*\u001b[39m\u001b[38;5;241m*\u001b[39m \u001b[38;5;241m2\u001b[39m \u001b[38;5;241m+\u001b[39m w3 \u001b[38;5;241m*\u001b[39m x \u001b[38;5;241m*\u001b[39m\u001b[38;5;241m*\u001b[39m \u001b[38;5;241m3\u001b[39m\n\u001b[1;32m----> 4\u001b[0m \u001b[43mplt\u001b[49m\u001b[38;5;241;43m.\u001b[39;49m\u001b[43mplot\u001b[49m\u001b[43m(\u001b[49m\u001b[43mx\u001b[49m\u001b[43m,\u001b[49m\u001b[43m \u001b[49m\u001b[43my\u001b[49m\u001b[43m,\u001b[49m\u001b[43m \u001b[49m\u001b[43mx\u001b[49m\u001b[43m,\u001b[49m\u001b[43m \u001b[49m\u001b[43my_hat\u001b[49m\u001b[43m)\u001b[49m;\n\u001b[0;32m      5\u001b[0m plt\u001b[38;5;241m.\u001b[39mgrid();\n\u001b[0;32m      6\u001b[0m plt\u001b[38;5;241m.\u001b[39mxlabel(\u001b[38;5;124m'\u001b[39m\u001b[38;5;124mx\u001b[39m\u001b[38;5;124m'\u001b[39m);\n",
            "File \u001b[1;32mc:\\Users\\pragb\\miniconda3\\envs\\DNN\\lib\\site-packages\\matplotlib\\pyplot.py:3575\u001b[0m, in \u001b[0;36mplot\u001b[1;34m(scalex, scaley, data, *args, **kwargs)\u001b[0m\n\u001b[0;32m   3567\u001b[0m \u001b[38;5;129m@_copy_docstring_and_deprecators\u001b[39m(Axes\u001b[38;5;241m.\u001b[39mplot)\n\u001b[0;32m   3568\u001b[0m \u001b[38;5;28;01mdef\u001b[39;00m \u001b[38;5;21mplot\u001b[39m(\n\u001b[0;32m   3569\u001b[0m     \u001b[38;5;241m*\u001b[39margs: \u001b[38;5;28mfloat\u001b[39m \u001b[38;5;241m|\u001b[39m ArrayLike \u001b[38;5;241m|\u001b[39m \u001b[38;5;28mstr\u001b[39m,\n\u001b[1;32m   (...)\u001b[0m\n\u001b[0;32m   3573\u001b[0m     \u001b[38;5;241m*\u001b[39m\u001b[38;5;241m*\u001b[39mkwargs,\n\u001b[0;32m   3574\u001b[0m ) \u001b[38;5;241m-\u001b[39m\u001b[38;5;241m>\u001b[39m \u001b[38;5;28mlist\u001b[39m[Line2D]:\n\u001b[1;32m-> 3575\u001b[0m     \u001b[38;5;28;01mreturn\u001b[39;00m gca()\u001b[38;5;241m.\u001b[39mplot(\n\u001b[0;32m   3576\u001b[0m         \u001b[38;5;241m*\u001b[39margs,\n\u001b[0;32m   3577\u001b[0m         scalex\u001b[38;5;241m=\u001b[39mscalex,\n\u001b[0;32m   3578\u001b[0m         scaley\u001b[38;5;241m=\u001b[39mscaley,\n\u001b[0;32m   3579\u001b[0m         \u001b[38;5;241m*\u001b[39m\u001b[38;5;241m*\u001b[39m({\u001b[38;5;124m\"\u001b[39m\u001b[38;5;124mdata\u001b[39m\u001b[38;5;124m\"\u001b[39m: data} \u001b[38;5;28;01mif\u001b[39;00m data \u001b[38;5;129;01mis\u001b[39;00m \u001b[38;5;129;01mnot\u001b[39;00m \u001b[38;5;28;01mNone\u001b[39;00m \u001b[38;5;28;01melse\u001b[39;00m {}),\n\u001b[0;32m   3580\u001b[0m         \u001b[38;5;241m*\u001b[39m\u001b[38;5;241m*\u001b[39mkwargs,\n\u001b[0;32m   3581\u001b[0m     )\n",
            "File \u001b[1;32mc:\\Users\\pragb\\miniconda3\\envs\\DNN\\lib\\site-packages\\matplotlib\\axes\\_axes.py:1723\u001b[0m, in \u001b[0;36mAxes.plot\u001b[1;34m(self, scalex, scaley, data, *args, **kwargs)\u001b[0m\n\u001b[0;32m   1721\u001b[0m lines \u001b[38;5;241m=\u001b[39m [\u001b[38;5;241m*\u001b[39m\u001b[38;5;28mself\u001b[39m\u001b[38;5;241m.\u001b[39m_get_lines(\u001b[38;5;28mself\u001b[39m, \u001b[38;5;241m*\u001b[39margs, data\u001b[38;5;241m=\u001b[39mdata, \u001b[38;5;241m*\u001b[39m\u001b[38;5;241m*\u001b[39mkwargs)]\n\u001b[0;32m   1722\u001b[0m \u001b[38;5;28;01mfor\u001b[39;00m line \u001b[38;5;129;01min\u001b[39;00m lines:\n\u001b[1;32m-> 1723\u001b[0m     \u001b[38;5;28;43mself\u001b[39;49m\u001b[38;5;241;43m.\u001b[39;49m\u001b[43madd_line\u001b[49m\u001b[43m(\u001b[49m\u001b[43mline\u001b[49m\u001b[43m)\u001b[49m\n\u001b[0;32m   1724\u001b[0m \u001b[38;5;28;01mif\u001b[39;00m scalex:\n\u001b[0;32m   1725\u001b[0m     \u001b[38;5;28mself\u001b[39m\u001b[38;5;241m.\u001b[39m_request_autoscale_view(\u001b[38;5;124m\"\u001b[39m\u001b[38;5;124mx\u001b[39m\u001b[38;5;124m\"\u001b[39m)\n",
            "File \u001b[1;32mc:\\Users\\pragb\\miniconda3\\envs\\DNN\\lib\\site-packages\\matplotlib\\axes\\_base.py:2309\u001b[0m, in \u001b[0;36m_AxesBase.add_line\u001b[1;34m(self, line)\u001b[0m\n\u001b[0;32m   2306\u001b[0m \u001b[38;5;28;01mif\u001b[39;00m line\u001b[38;5;241m.\u001b[39mget_clip_path() \u001b[38;5;129;01mis\u001b[39;00m \u001b[38;5;28;01mNone\u001b[39;00m:\n\u001b[0;32m   2307\u001b[0m     line\u001b[38;5;241m.\u001b[39mset_clip_path(\u001b[38;5;28mself\u001b[39m\u001b[38;5;241m.\u001b[39mpatch)\n\u001b[1;32m-> 2309\u001b[0m \u001b[38;5;28;43mself\u001b[39;49m\u001b[38;5;241;43m.\u001b[39;49m\u001b[43m_update_line_limits\u001b[49m\u001b[43m(\u001b[49m\u001b[43mline\u001b[49m\u001b[43m)\u001b[49m\n\u001b[0;32m   2310\u001b[0m \u001b[38;5;28;01mif\u001b[39;00m \u001b[38;5;129;01mnot\u001b[39;00m line\u001b[38;5;241m.\u001b[39mget_label():\n\u001b[0;32m   2311\u001b[0m     line\u001b[38;5;241m.\u001b[39mset_label(\u001b[38;5;124mf\u001b[39m\u001b[38;5;124m'\u001b[39m\u001b[38;5;124m_child\u001b[39m\u001b[38;5;132;01m{\u001b[39;00m\u001b[38;5;28mlen\u001b[39m(\u001b[38;5;28mself\u001b[39m\u001b[38;5;241m.\u001b[39m_children)\u001b[38;5;132;01m}\u001b[39;00m\u001b[38;5;124m'\u001b[39m)\n",
            "File \u001b[1;32mc:\\Users\\pragb\\miniconda3\\envs\\DNN\\lib\\site-packages\\matplotlib\\axes\\_base.py:2332\u001b[0m, in \u001b[0;36m_AxesBase._update_line_limits\u001b[1;34m(self, line)\u001b[0m\n\u001b[0;32m   2328\u001b[0m \u001b[38;5;28;01mdef\u001b[39;00m \u001b[38;5;21m_update_line_limits\u001b[39m(\u001b[38;5;28mself\u001b[39m, line):\n\u001b[0;32m   2329\u001b[0m     \u001b[38;5;124;03m\"\"\"\u001b[39;00m\n\u001b[0;32m   2330\u001b[0m \u001b[38;5;124;03m    Figures out the data limit of the given line, updating self.dataLim.\u001b[39;00m\n\u001b[0;32m   2331\u001b[0m \u001b[38;5;124;03m    \"\"\"\u001b[39;00m\n\u001b[1;32m-> 2332\u001b[0m     path \u001b[38;5;241m=\u001b[39m \u001b[43mline\u001b[49m\u001b[38;5;241;43m.\u001b[39;49m\u001b[43mget_path\u001b[49m\u001b[43m(\u001b[49m\u001b[43m)\u001b[49m\n\u001b[0;32m   2333\u001b[0m     \u001b[38;5;28;01mif\u001b[39;00m path\u001b[38;5;241m.\u001b[39mvertices\u001b[38;5;241m.\u001b[39msize \u001b[38;5;241m==\u001b[39m \u001b[38;5;241m0\u001b[39m:\n\u001b[0;32m   2334\u001b[0m         \u001b[38;5;28;01mreturn\u001b[39;00m\n",
            "File \u001b[1;32mc:\\Users\\pragb\\miniconda3\\envs\\DNN\\lib\\site-packages\\matplotlib\\lines.py:1032\u001b[0m, in \u001b[0;36mLine2D.get_path\u001b[1;34m(self)\u001b[0m\n\u001b[0;32m   1030\u001b[0m \u001b[38;5;124;03m\"\"\"Return the `~matplotlib.path.Path` associated with this line.\"\"\"\u001b[39;00m\n\u001b[0;32m   1031\u001b[0m \u001b[38;5;28;01mif\u001b[39;00m \u001b[38;5;28mself\u001b[39m\u001b[38;5;241m.\u001b[39m_invalidy \u001b[38;5;129;01mor\u001b[39;00m \u001b[38;5;28mself\u001b[39m\u001b[38;5;241m.\u001b[39m_invalidx:\n\u001b[1;32m-> 1032\u001b[0m     \u001b[38;5;28;43mself\u001b[39;49m\u001b[38;5;241;43m.\u001b[39;49m\u001b[43mrecache\u001b[49m\u001b[43m(\u001b[49m\u001b[43m)\u001b[49m\n\u001b[0;32m   1033\u001b[0m \u001b[38;5;28;01mreturn\u001b[39;00m \u001b[38;5;28mself\u001b[39m\u001b[38;5;241m.\u001b[39m_path\n",
            "File \u001b[1;32mc:\\Users\\pragb\\miniconda3\\envs\\DNN\\lib\\site-packages\\matplotlib\\lines.py:674\u001b[0m, in \u001b[0;36mLine2D.recache\u001b[1;34m(self, always)\u001b[0m\n\u001b[0;32m    672\u001b[0m \u001b[38;5;28;01mif\u001b[39;00m always \u001b[38;5;129;01mor\u001b[39;00m \u001b[38;5;28mself\u001b[39m\u001b[38;5;241m.\u001b[39m_invalidy:\n\u001b[0;32m    673\u001b[0m     yconv \u001b[38;5;241m=\u001b[39m \u001b[38;5;28mself\u001b[39m\u001b[38;5;241m.\u001b[39mconvert_yunits(\u001b[38;5;28mself\u001b[39m\u001b[38;5;241m.\u001b[39m_yorig)\n\u001b[1;32m--> 674\u001b[0m     y \u001b[38;5;241m=\u001b[39m \u001b[43m_to_unmasked_float_array\u001b[49m\u001b[43m(\u001b[49m\u001b[43myconv\u001b[49m\u001b[43m)\u001b[49m\u001b[38;5;241m.\u001b[39mravel()\n\u001b[0;32m    675\u001b[0m \u001b[38;5;28;01melse\u001b[39;00m:\n\u001b[0;32m    676\u001b[0m     y \u001b[38;5;241m=\u001b[39m \u001b[38;5;28mself\u001b[39m\u001b[38;5;241m.\u001b[39m_y\n",
            "File \u001b[1;32mc:\\Users\\pragb\\miniconda3\\envs\\DNN\\lib\\site-packages\\matplotlib\\cbook.py:1345\u001b[0m, in \u001b[0;36m_to_unmasked_float_array\u001b[1;34m(x)\u001b[0m\n\u001b[0;32m   1343\u001b[0m     \u001b[38;5;28;01mreturn\u001b[39;00m np\u001b[38;5;241m.\u001b[39mma\u001b[38;5;241m.\u001b[39masarray(x, \u001b[38;5;28mfloat\u001b[39m)\u001b[38;5;241m.\u001b[39mfilled(np\u001b[38;5;241m.\u001b[39mnan)\n\u001b[0;32m   1344\u001b[0m \u001b[38;5;28;01melse\u001b[39;00m:\n\u001b[1;32m-> 1345\u001b[0m     \u001b[38;5;28;01mreturn\u001b[39;00m \u001b[43mnp\u001b[49m\u001b[38;5;241;43m.\u001b[39;49m\u001b[43masarray\u001b[49m\u001b[43m(\u001b[49m\u001b[43mx\u001b[49m\u001b[43m,\u001b[49m\u001b[43m \u001b[49m\u001b[38;5;28;43mfloat\u001b[39;49m\u001b[43m)\u001b[49m\n",
            "File \u001b[1;32mc:\\Users\\pragb\\miniconda3\\envs\\DNN\\lib\\site-packages\\torch\\_tensor.py:1064\u001b[0m, in \u001b[0;36mTensor.__array__\u001b[1;34m(self, dtype)\u001b[0m\n\u001b[0;32m   1062\u001b[0m     \u001b[38;5;28;01mreturn\u001b[39;00m \u001b[38;5;28mself\u001b[39m\u001b[38;5;241m.\u001b[39mnumpy()\n\u001b[0;32m   1063\u001b[0m \u001b[38;5;28;01melse\u001b[39;00m:\n\u001b[1;32m-> 1064\u001b[0m     \u001b[38;5;28;01mreturn\u001b[39;00m \u001b[38;5;28;43mself\u001b[39;49m\u001b[38;5;241;43m.\u001b[39;49m\u001b[43mnumpy\u001b[49m\u001b[43m(\u001b[49m\u001b[43m)\u001b[49m\u001b[38;5;241m.\u001b[39mastype(dtype, copy\u001b[38;5;241m=\u001b[39m\u001b[38;5;28;01mFalse\u001b[39;00m)\n",
            "\u001b[1;31mRuntimeError\u001b[0m: Can't call numpy() on Tensor that requires grad. Use tensor.detach().numpy() instead."
          ]
        },
        {
          "data": {
            "image/png": "[encoded data removed]",
            "text/plain": [
              "<Figure size 432x288 with 1 Axes>"
            ]
          },
          "metadata": {
            "needs_background": "light"
          },
          "output_type": "display_data"
        }
      ],
      "source": [
        "# Show predictions with final weights\n",
        "# This will not work unless you make the code in the previous cell work first!)\n",
        "y_hat = w0 + w1 * x + w2 * x ** 2 + w3 * x ** 3\n",
        "plt.plot(x, y, x, y_hat);\n",
        "plt.grid();\n",
        "plt.xlabel('x');\n",
        "plt.ylabel('y = f(x)');"
      ]
    },
    {
      "cell_type": "markdown",
      "metadata": {
        "id": "Z6Xy0h0EqOBO"
      },
      "source": [
        "## The Algorithm  using Automatic Differentiation\n",
        "* In the previous algorithm we had to provide mathetimatical formulas for the derivatives of the loss with respect to $\\tilde{y}_i$ and the weights.\n",
        "* We also had to code the formulas.\n",
        "* We can by-pass all of the above using PyTorch's Automatic Differentiation.\n",
        "* Modify the previous algotithm as follows:\n",
        "    1. Initialize the weights as above but also set `requires_grad=True`. This will indicate to PyTorch that it must calculate gradients for these variables. \n",
        "    1. Calculate the `loss` and call `loss.backward()`. \n",
        "    1. The calculcated gradients for each weight are stored in .grad (for example the $\\textrm {grad_} w_0$ is stored in `w_0.grad`. Using the automatically calculated gradients update the weights as above.\n",
        "    1. Set all the gradients for the weights to zero\n"
      ]
    },
    {
      "cell_type": "code",
      "execution_count": 50,
      "metadata": {
        "id": "9NyTAeWcqOBO"
      },
      "outputs": [
        {
          "name": "stdout",
          "output_type": "stream",
          "text": [
            "99 4026532888576.0\n",
            "199 4071139049472.0\n",
            "299 4115990839296.0\n",
            "399 4161088782336.0\n",
            "499 4206431830016.0\n",
            "599 4252020768768.0\n",
            "699 4297855598592.0\n",
            "799 4343936319488.0\n",
            "899 4390262407168.0\n",
            "999 4436833861632.0\n",
            "1099 4483651731456.0\n",
            "1199 4530714968064.0\n",
            "1299 4578024095744.0\n",
            "1399 4625578590208.0\n",
            "1499 4673378975744.0\n",
            "1599 4721425776640.0\n",
            "1699 4769717420032.0\n",
            "1799 4818255478784.0\n",
            "1899 4867038380032.0\n",
            "1999 4916067696640.0\n",
            "Result: y = -226.6892852783203 + -565.4558715820312 x + -1332.98974609375 x^2 + -4112.408203125 x^3\n"
          ]
        },
        {
          "data": {
            "text/plain": [
              "(tensor(0.), tensor(0.), tensor(0.), tensor(0.))"
            ]
          },
          "execution_count": 50,
          "metadata": {},
          "output_type": "execute_result"
        }
      ],
      "source": [
        "# Modification 1: Initialize the weights as above but set requires_grad=True\n",
        "# Write your code here:\n",
        "\n",
        "# Fill in the gaps denoned with ?? by writing your code\n",
        "lr = 1e-6 # learning rate\n",
        "for t in range(2000):\n",
        "    # Calculate prediction y with current weights (forward pass).\n",
        "    y_hat = w0 + w1 * x + w2 * x ** 2 + w3 * x ** 3\n",
        "\n",
        "    # Compute and print loss\n",
        "    loss = (y_hat - y).pow(2).sum()\n",
        "    if t % 100 == 99:\n",
        "        print(t, loss.item())\n",
        "   \n",
        "    # Modification 2: call backward() on loss\n",
        "    # Write your code here:\n",
        "    loss.backward()\n",
        "    \n",
        "    # The update of the weights should not create new gradients\n",
        "    # For this reason we need to use torch.no_grad()\n",
        "    with torch.no_grad():\n",
        "        # Modification 3: Using the automatically calculated gradients update the weights as above.\n",
        "        # Write your code here:\n",
        "         w0 -= lr * grad_w0\n",
        "         w1 -= lr * grad_w1\n",
        "         w2 -= lr * grad_w2\n",
        "         w3 -= lr * grad_w3\n",
        "\n",
        "    # Modification 4: set all the gradients for the weights to zero\n",
        "    # Write your code here:\n",
        "    w0.grad.zero_()\n",
        "    w1.grad.zero_()\n",
        "    w2.grad.zero_()\n",
        "    w3.grad.zero_()\n",
        "\n",
        "\n",
        "print(f'Result: y = {w0.item()} + {w1.item()} x + {w2.item()} x^2 + {w3.item()} x^3')\n",
        "\n",
        "w1.grad, w2.grad, w3.grad, w0.grad\n"
      ]
    },
    {
      "cell_type": "code",
      "execution_count": 51,
      "metadata": {
        "id": "pCL40PkhqOBP"
      },
      "outputs": [
        {
          "data": {
            "image/png": "[encoded data removed]",
            "text/plain": [
              "<Figure size 432x288 with 1 Axes>"
            ]
          },
          "metadata": {
            "needs_background": "light"
          },
          "output_type": "display_data"
        }
      ],
      "source": [
        "# Show predictions with final weights \n",
        "# This will not work unless you make the code in the previous cell work first!)\n",
        "w0.detach_().numpy()\n",
        "w1.detach_().numpy()\n",
        "w2.detach_().numpy()\n",
        "w3.detach_().numpy()\n",
        "\n",
        "y_hat = w0 + w1 * x + w2 * x ** 2 + w3 * x ** 3\n",
        "plt.plot(x, y, x, y_hat);\n",
        "plt.grid();\n",
        "plt.xlabel('x');\n",
        "plt.ylabel('y = f(x)');"
      ]
    }
  ],
  "metadata": {
    "colab": {
      "collapsed_sections": [],
      "name": "Week03_Lab.ipynb",
      "provenance": []
    },
    "kernelspec": {
      "display_name": "Python 3 (ipykernel)",
      "language": "python",
      "name": "python3"
    },
    "language_info": {
      "codemirror_mode": {
        "name": "ipython",
        "version": 3
      },
      "file_extension": ".py",
      "mimetype": "text/x-python",
      "name": "python",
      "nbconvert_exporter": "python",
      "pygments_lexer": "ipython3",
      "version": "3.10.13"
    }
  },
  "nbformat": 4,
  "nbformat_minor": 0
}
